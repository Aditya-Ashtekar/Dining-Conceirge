{
  "nbformat": 4,
  "nbformat_minor": 0,
  "metadata": {
    "colab": {
      "name": "Load data to DynamoDB.ipynb",
      "provenance": []
    },
    "kernelspec": {
      "name": "python3",
      "display_name": "Python 3"
    }
  },
  "cells": [
    {
      "cell_type": "code",
      "metadata": {
        "id": "Tyx-oHohCZ32",
        "outputId": "cd0d2dd5-d4b2-48d1-dc31-6186b16129e0",
        "colab": {
          "base_uri": "https://localhost:8080/",
          "height": 301
        }
      },
      "source": [
        "!pip install boto3"
      ],
      "execution_count": null,
      "outputs": [
        {
          "output_type": "stream",
          "text": [
            "Collecting boto3\n",
            "\u001b[?25l  Downloading https://files.pythonhosted.org/packages/92/5b/f855226132309de329a80eec355954be31d98e801da761ab127b743f1b87/boto3-1.15.12-py2.py3-none-any.whl (129kB)\n",
            "\r\u001b[K     |██▌                             | 10kB 31.1MB/s eta 0:00:01\r\u001b[K     |█████                           | 20kB 6.2MB/s eta 0:00:01\r\u001b[K     |███████▋                        | 30kB 7.2MB/s eta 0:00:01\r\u001b[K     |██████████▏                     | 40kB 8.1MB/s eta 0:00:01\r\u001b[K     |████████████▊                   | 51kB 7.1MB/s eta 0:00:01\r\u001b[K     |███████████████▎                | 61kB 8.0MB/s eta 0:00:01\r\u001b[K     |█████████████████▊              | 71kB 8.3MB/s eta 0:00:01\r\u001b[K     |████████████████████▎           | 81kB 9.0MB/s eta 0:00:01\r\u001b[K     |██████████████████████▉         | 92kB 8.8MB/s eta 0:00:01\r\u001b[K     |█████████████████████████▍      | 102kB 9.3MB/s eta 0:00:01\r\u001b[K     |████████████████████████████    | 112kB 9.3MB/s eta 0:00:01\r\u001b[K     |██████████████████████████████▌ | 122kB 9.3MB/s eta 0:00:01\r\u001b[K     |████████████████████████████████| 133kB 9.3MB/s \n",
            "\u001b[?25hCollecting jmespath<1.0.0,>=0.7.1\n",
            "  Downloading https://files.pythonhosted.org/packages/07/cb/5f001272b6faeb23c1c9e0acc04d48eaaf5c862c17709d20e3469c6e0139/jmespath-0.10.0-py2.py3-none-any.whl\n",
            "Collecting s3transfer<0.4.0,>=0.3.0\n",
            "\u001b[?25l  Downloading https://files.pythonhosted.org/packages/69/79/e6afb3d8b0b4e96cefbdc690f741d7dd24547ff1f94240c997a26fa908d3/s3transfer-0.3.3-py2.py3-none-any.whl (69kB)\n",
            "\u001b[K     |████████████████████████████████| 71kB 6.1MB/s \n",
            "\u001b[?25hCollecting botocore<1.19.0,>=1.18.12\n",
            "\u001b[?25l  Downloading https://files.pythonhosted.org/packages/14/d5/9d0db656de5bb8c431232d5976526ca5b6ac1e4563f95ce6cd842bbccff4/botocore-1.18.12-py2.py3-none-any.whl (6.7MB)\n",
            "\u001b[K     |████████████████████████████████| 6.7MB 8.5MB/s \n",
            "\u001b[?25hRequirement already satisfied: python-dateutil<3.0.0,>=2.1 in /usr/local/lib/python3.6/dist-packages (from botocore<1.19.0,>=1.18.12->boto3) (2.8.1)\n",
            "Requirement already satisfied: urllib3<1.26,>=1.20; python_version != \"3.4\" in /usr/local/lib/python3.6/dist-packages (from botocore<1.19.0,>=1.18.12->boto3) (1.24.3)\n",
            "Requirement already satisfied: six>=1.5 in /usr/local/lib/python3.6/dist-packages (from python-dateutil<3.0.0,>=2.1->botocore<1.19.0,>=1.18.12->boto3) (1.15.0)\n",
            "Installing collected packages: jmespath, botocore, s3transfer, boto3\n",
            "Successfully installed boto3-1.15.12 botocore-1.18.12 jmespath-0.10.0 s3transfer-0.3.3\n"
          ],
          "name": "stdout"
        }
      ]
    },
    {
      "cell_type": "code",
      "metadata": {
        "id": "kaR5KeqNCpue"
      },
      "source": [
        "import boto3\n",
        "import json\n",
        "from decimal import Decimal"
      ],
      "execution_count": null,
      "outputs": []
    },
    {
      "cell_type": "code",
      "metadata": {
        "id": "UDxNNDQdCeVw"
      },
      "source": [
        "dynamodb = boto3.resource(service_name='dynamodb',\n",
        "                          aws_access_key_id=\"\",\n",
        "                          aws_secret_access_key=\"\",\n",
        "                          region_name=\"us-east-1\",\n",
        "                          endpoint_url=\"https://dynamodb.us-east-1.amazonaws.com\")"
      ],
      "execution_count": null,
      "outputs": []
    },
    {
      "cell_type": "code",
      "metadata": {
        "id": "u0Q8Sd31E2oB"
      },
      "source": [
        "table = dynamodb.Table('yelp_restaurants')"
      ],
      "execution_count": null,
      "outputs": []
    },
    {
      "cell_type": "code",
      "metadata": {
        "id": "oUGObYQzMeJl",
        "outputId": "08ffd515-c794-4ed0-baa6-490110307f9b",
        "colab": {
          "base_uri": "https://localhost:8080/",
          "height": 34
        }
      },
      "source": [
        "table.key_schema"
      ],
      "execution_count": null,
      "outputs": [
        {
          "output_type": "execute_result",
          "data": {
            "text/plain": [
              "[{'AttributeName': 'restaurant_id', 'KeyType': 'HASH'}]"
            ]
          },
          "metadata": {
            "tags": []
          },
          "execution_count": 44
        }
      ]
    },
    {
      "cell_type": "code",
      "metadata": {
        "id": "_O1We1BzF1rH"
      },
      "source": [
        "with open(\"restaurant_info.json\") as json_file:\n",
        "  restaurant_list = json.load(json_file, parse_float=Decimal)"
      ],
      "execution_count": null,
      "outputs": []
    },
    {
      "cell_type": "code",
      "metadata": {
        "id": "qqz8trH6LhLN"
      },
      "source": [
        "from datetime import datetime"
      ],
      "execution_count": null,
      "outputs": []
    },
    {
      "cell_type": "code",
      "metadata": {
        "id": "iSXF9_JULm8z",
        "outputId": "439d1430-8ddf-4496-e7b0-619a1960656b",
        "colab": {
          "base_uri": "https://localhost:8080/",
          "height": 34
        }
      },
      "source": [
        "# a = datetime.now()\n",
        "print(datetime.now())\n"
      ],
      "execution_count": null,
      "outputs": [
        {
          "output_type": "stream",
          "text": [
            "2020-10-05 23:55:26.883036\n"
          ],
          "name": "stdout"
        }
      ]
    },
    {
      "cell_type": "code",
      "metadata": {
        "id": "a7rSJoYCIi_D",
        "outputId": "64a659b2-519d-473d-b319-8969f0b95f48",
        "colab": {
          "base_uri": "https://localhost:8080/",
          "height": 1000
        }
      },
      "source": [
        "a = datetime.now()\n",
        "print(a)\n",
        "for i, restaurant in enumerate(restaurant_list.values()):\n",
        "  # print(restaurant)\n",
        "  res = {}\n",
        "  res['restaurant_id'] = restaurant[0]\n",
        "  res['insertedAtTimestamp'] = str(datetime.now())\n",
        "  res['restaurantName'] = restaurant[1]\n",
        "  res['address'] = restaurant[2]\n",
        "  res['latitude'] = restaurant[3]['latitude']\n",
        "  res['longitude'] = restaurant[3]['longitude']\n",
        "  res['reviewCount'] = restaurant[4]\n",
        "  res['rating'] = restaurant[5]\n",
        "  res['zipcode'] = restaurant[6]\n",
        "  if i%100 == 0:\n",
        "    print(i)\n",
        "  # break\n",
        "  table.put_item(Item=res)"
      ],
      "execution_count": null,
      "outputs": [
        {
          "output_type": "stream",
          "text": [
            "2020-10-05 23:57:40.719512\n",
            "0\n",
            "100\n",
            "200\n",
            "300\n",
            "400\n",
            "500\n",
            "600\n",
            "700\n",
            "800\n",
            "900\n",
            "1000\n",
            "1100\n",
            "1200\n",
            "1300\n",
            "1400\n",
            "1500\n",
            "1600\n",
            "1700\n",
            "1800\n",
            "1900\n",
            "2000\n",
            "2100\n",
            "2200\n",
            "2300\n",
            "2400\n",
            "2500\n",
            "2600\n",
            "2700\n",
            "2800\n",
            "2900\n",
            "3000\n",
            "3100\n",
            "3200\n",
            "3300\n",
            "3400\n",
            "3500\n",
            "3600\n",
            "3700\n",
            "3800\n",
            "3900\n",
            "4000\n",
            "4100\n",
            "4200\n",
            "4300\n",
            "4400\n",
            "4500\n",
            "4600\n",
            "4700\n",
            "4800\n",
            "4900\n",
            "5000\n",
            "5100\n",
            "5200\n",
            "5300\n",
            "5400\n",
            "5500\n"
          ],
          "name": "stdout"
        }
      ]
    }
  ]
}