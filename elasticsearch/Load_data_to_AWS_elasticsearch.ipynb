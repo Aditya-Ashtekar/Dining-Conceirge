{
  "nbformat": 4,
  "nbformat_minor": 0,
  "metadata": {
    "colab": {
      "name": "Load data to AWS elasticsearch.ipynb",
      "provenance": []
    },
    "kernelspec": {
      "name": "python3",
      "display_name": "Python 3"
    }
  },
  "cells": [
    {
      "cell_type": "code",
      "metadata": {
        "id": "t9GFG3GxUlbF",
        "outputId": "d2cc929c-45bc-4fcc-f16c-8361646a84ec",
        "colab": {
          "base_uri": "https://localhost:8080/",
          "height": 301
        }
      },
      "source": [
        "!pip install boto3"
      ],
      "execution_count": null,
      "outputs": [
        {
          "output_type": "stream",
          "text": [
            "Collecting boto3\n",
            "\u001b[?25l  Downloading https://files.pythonhosted.org/packages/2f/08/f1ff665147a5d75b871bbe5ba76916f6490419c52a33e588385c4b69281b/boto3-1.15.18-py2.py3-none-any.whl (129kB)\n",
            "\u001b[K     |████████████████████████████████| 133kB 2.7MB/s \n",
            "\u001b[?25hCollecting s3transfer<0.4.0,>=0.3.0\n",
            "\u001b[?25l  Downloading https://files.pythonhosted.org/packages/69/79/e6afb3d8b0b4e96cefbdc690f741d7dd24547ff1f94240c997a26fa908d3/s3transfer-0.3.3-py2.py3-none-any.whl (69kB)\n",
            "\u001b[K     |████████████████████████████████| 71kB 5.0MB/s \n",
            "\u001b[?25hCollecting jmespath<1.0.0,>=0.7.1\n",
            "  Downloading https://files.pythonhosted.org/packages/07/cb/5f001272b6faeb23c1c9e0acc04d48eaaf5c862c17709d20e3469c6e0139/jmespath-0.10.0-py2.py3-none-any.whl\n",
            "Collecting botocore<1.19.0,>=1.18.18\n",
            "\u001b[?25l  Downloading https://files.pythonhosted.org/packages/2d/72/984ac8f33b5c8df5ff63f323a8724f65b4d0f8956968b942b77d35d3a1ef/botocore-1.18.18-py2.py3-none-any.whl (6.7MB)\n",
            "\u001b[K     |████████████████████████████████| 6.7MB 7.5MB/s \n",
            "\u001b[?25hRequirement already satisfied: urllib3<1.26,>=1.20; python_version != \"3.4\" in /usr/local/lib/python3.6/dist-packages (from botocore<1.19.0,>=1.18.18->boto3) (1.24.3)\n",
            "Requirement already satisfied: python-dateutil<3.0.0,>=2.1 in /usr/local/lib/python3.6/dist-packages (from botocore<1.19.0,>=1.18.18->boto3) (2.8.1)\n",
            "Requirement already satisfied: six>=1.5 in /usr/local/lib/python3.6/dist-packages (from python-dateutil<3.0.0,>=2.1->botocore<1.19.0,>=1.18.18->boto3) (1.15.0)\n",
            "Installing collected packages: jmespath, botocore, s3transfer, boto3\n",
            "Successfully installed boto3-1.15.18 botocore-1.18.18 jmespath-0.10.0 s3transfer-0.3.3\n"
          ],
          "name": "stdout"
        }
      ]
    },
    {
      "cell_type": "code",
      "metadata": {
        "id": "BTojfEKmU_o_",
        "outputId": "1bcaedf8-5c20-4895-f289-8dfe39afea3c",
        "colab": {
          "base_uri": "https://localhost:8080/",
          "height": 141
        }
      },
      "source": [
        "!pip install elasticsearch"
      ],
      "execution_count": null,
      "outputs": [
        {
          "output_type": "stream",
          "text": [
            "Collecting elasticsearch\n",
            "\u001b[?25l  Downloading https://files.pythonhosted.org/packages/e4/b7/f8f03019089671486e2910282c1b6fce26ccc8a513322df72ac8994ab2de/elasticsearch-7.9.1-py2.py3-none-any.whl (219kB)\n",
            "\u001b[K     |████████████████████████████████| 225kB 2.8MB/s \n",
            "\u001b[?25hRequirement already satisfied: certifi in /usr/local/lib/python3.6/dist-packages (from elasticsearch) (2020.6.20)\n",
            "Requirement already satisfied: urllib3>=1.21.1 in /usr/local/lib/python3.6/dist-packages (from elasticsearch) (1.24.3)\n",
            "Installing collected packages: elasticsearch\n",
            "Successfully installed elasticsearch-7.9.1\n"
          ],
          "name": "stdout"
        }
      ]
    },
    {
      "cell_type": "code",
      "metadata": {
        "id": "KauyuTJnVEde",
        "outputId": "6887ae68-df47-40c9-8614-e56fc55c7371",
        "colab": {
          "base_uri": "https://localhost:8080/",
          "height": 176
        }
      },
      "source": [
        "!pip install requests_aws4auth"
      ],
      "execution_count": null,
      "outputs": [
        {
          "output_type": "stream",
          "text": [
            "Collecting requests_aws4auth\n",
            "  Downloading https://files.pythonhosted.org/packages/4e/44/dec6791ef89cef395918f6e4268d0f30096ee798523fcf26edd53117210a/requests_aws4auth-1.0.1-py2.py3-none-any.whl\n",
            "Requirement already satisfied: requests in /usr/local/lib/python3.6/dist-packages (from requests_aws4auth) (2.23.0)\n",
            "Requirement already satisfied: idna<3,>=2.5 in /usr/local/lib/python3.6/dist-packages (from requests->requests_aws4auth) (2.10)\n",
            "Requirement already satisfied: urllib3!=1.25.0,!=1.25.1,<1.26,>=1.21.1 in /usr/local/lib/python3.6/dist-packages (from requests->requests_aws4auth) (1.24.3)\n",
            "Requirement already satisfied: certifi>=2017.4.17 in /usr/local/lib/python3.6/dist-packages (from requests->requests_aws4auth) (2020.6.20)\n",
            "Requirement already satisfied: chardet<4,>=3.0.2 in /usr/local/lib/python3.6/dist-packages (from requests->requests_aws4auth) (3.0.4)\n",
            "Installing collected packages: requests-aws4auth\n",
            "Successfully installed requests-aws4auth-1.0.1\n"
          ],
          "name": "stdout"
        }
      ]
    },
    {
      "cell_type": "code",
      "metadata": {
        "id": "qyASBaX2Ua6P"
      },
      "source": [
        "from elasticsearch import Elasticsearch, RequestsHttpConnection\n",
        "from requests_aws4auth import AWS4Auth\n",
        "import boto3\n",
        "import json\n",
        "import requests"
      ],
      "execution_count": null,
      "outputs": []
    },
    {
      "cell_type": "code",
      "metadata": {
        "id": "mHRiA2I3UhDD"
      },
      "source": [
        ""
      ],
      "execution_count": null,
      "outputs": []
    },
    {
      "cell_type": "code",
      "metadata": {
        "id": "fo9-dcLbUubd"
      },
      "source": [
        "host = 'https://search-yelp-restaurants-o4d7ack43ubxvnsu3h2y4od4ym.us-east-1.es.amazonaws.com' # For example, my-test-domain.us-east-1.es.amazonaws.com\n",
        "region = 'us-east-1' # e.g. us-west-1\n",
        "\n",
        "service = 'es'\n",
        "credentials = boto3.Session(aws_access_key_id=\"\", #your aws account access key\n",
        "                          aws_secret_access_key=\"\", #your aws account secret key\n",
        "                          region_name=\"us-east-1\").get_credentials()\n",
        "awsauth = AWS4Auth(credentials.access_key, credentials.secret_key, region, service)"
      ],
      "execution_count": null,
      "outputs": []
    },
    {
      "cell_type": "code",
      "metadata": {
        "id": "F0neiHaGn1oC"
      },
      "source": [
        "# print(awsauth.)"
      ],
      "execution_count": null,
      "outputs": []
    },
    {
      "cell_type": "code",
      "metadata": {
        "id": "m1ivpG6XxO2P",
        "outputId": "d8e5f001-a10e-43f0-dbdd-a56f9ba5ee23",
        "colab": {
          "base_uri": "https://localhost:8080/",
          "height": 34
        }
      },
      "source": [
        "es = Elasticsearch(\n",
        "    hosts = [host],\n",
        "    http_auth = awsauth,\n",
        "    use_ssl = True,\n",
        "    verify_certs = True,\n",
        "    port = 443,\n",
        "    connection_class = RequestsHttpConnection\n",
        ")\n",
        "print(es.ping())"
      ],
      "execution_count": null,
      "outputs": [
        {
          "output_type": "stream",
          "text": [
            "True\n"
          ],
          "name": "stdout"
        }
      ]
    },
    {
      "cell_type": "code",
      "metadata": {
        "id": "kVeREiSSwT6s",
        "outputId": "78c94284-795a-4667-f582-b8a8ba6fd5b9",
        "colab": {
          "base_uri": "https://localhost:8080/",
          "height": 247
        }
      },
      "source": [
        "es.info()"
      ],
      "execution_count": null,
      "outputs": [
        {
          "output_type": "execute_result",
          "data": {
            "text/plain": [
              "{'cluster_name': '673982206489:yelp-restaurants',\n",
              " 'cluster_uuid': 'ktd_2U7YRUyR5iuzTIecJQ',\n",
              " 'name': '01794b2e05bb4c14b2351256b809f539',\n",
              " 'tagline': 'You Know, for Search',\n",
              " 'version': {'build_date': '2020-08-18T20:35:37.721611Z',\n",
              "  'build_flavor': 'oss',\n",
              "  'build_hash': 'unknown',\n",
              "  'build_snapshot': False,\n",
              "  'build_type': 'tar',\n",
              "  'lucene_version': '8.5.1',\n",
              "  'minimum_index_compatibility_version': '6.0.0-beta1',\n",
              "  'minimum_wire_compatibility_version': '6.8.0',\n",
              "  'number': '7.7.0'}}"
            ]
          },
          "metadata": {
            "tags": []
          },
          "execution_count": 44
        }
      ]
    },
    {
      "cell_type": "code",
      "metadata": {
        "id": "P589FiiWWkHU"
      },
      "source": [
        "with open(\"restaurant_info1 (1).json\") as json_file:\n",
        "  restaurant_list = json.load(json_file)"
      ],
      "execution_count": null,
      "outputs": []
    },
    {
      "cell_type": "code",
      "metadata": {
        "id": "3V_2oDsLWRBx",
        "outputId": "9085fcb2-f325-4740-f595-f27aa8706ae3",
        "colab": {
          "base_uri": "https://localhost:8080/",
          "height": 1000
        }
      },
      "source": [
        "for i, restaurant in enumerate(restaurant_list.values()):\n",
        "  # print(restaurant)\n",
        "  res = {}\n",
        "  res['restaurant_id'] = restaurant[0]\n",
        "  res['cuisine'] = restaurant[1]\n",
        "  es.index(index=\"restaurants\", doc_type=\"Restaurants\", body=res)\n",
        "  if i%100 == 0:\n",
        "    print(\"Indexed \",i)"
      ],
      "execution_count": null,
      "outputs": [
        {
          "output_type": "stream",
          "text": [
            "Indexed  0\n",
            "Indexed  100\n",
            "Indexed  200\n",
            "Indexed  300\n",
            "Indexed  400\n",
            "Indexed  500\n",
            "Indexed  600\n",
            "Indexed  700\n",
            "Indexed  800\n",
            "Indexed  900\n",
            "Indexed  1000\n",
            "Indexed  1100\n",
            "Indexed  1200\n",
            "Indexed  1300\n",
            "Indexed  1400\n",
            "Indexed  1500\n",
            "Indexed  1600\n",
            "Indexed  1700\n",
            "Indexed  1800\n",
            "Indexed  1900\n",
            "Indexed  2000\n",
            "Indexed  2100\n",
            "Indexed  2200\n",
            "Indexed  2300\n",
            "Indexed  2400\n",
            "Indexed  2500\n",
            "Indexed  2600\n",
            "Indexed  2700\n",
            "Indexed  2800\n",
            "Indexed  2900\n",
            "Indexed  3000\n",
            "Indexed  3100\n",
            "Indexed  3200\n",
            "Indexed  3300\n",
            "Indexed  3400\n",
            "Indexed  3500\n",
            "Indexed  3600\n",
            "Indexed  3700\n",
            "Indexed  3800\n",
            "Indexed  3900\n",
            "Indexed  4000\n",
            "Indexed  4100\n",
            "Indexed  4200\n",
            "Indexed  4300\n",
            "Indexed  4400\n",
            "Indexed  4500\n",
            "Indexed  4600\n",
            "Indexed  4700\n",
            "Indexed  4800\n",
            "Indexed  4900\n",
            "Indexed  5000\n",
            "Indexed  5100\n",
            "Indexed  5200\n",
            "Indexed  5300\n",
            "Indexed  5400\n",
            "Indexed  5500\n"
          ],
          "name": "stdout"
        }
      ]
    },
    {
      "cell_type": "code",
      "metadata": {
        "id": "m_f0MrOa4bhf",
        "outputId": "d804cfcf-5d5c-41a2-8e96-ee68a5eddd60",
        "colab": {
          "base_uri": "https://localhost:8080/",
          "height": 34
        }
      },
      "source": [
        "# delete_curl = \"https://search-yelp-restaurants-o4d7ack43ubxvnsu3h2y4od4ym.us-east-1.es.amazonaws.com/restaurants\"\n",
        "# requests.delete(delete_curl, auth=awsauth)"
      ],
      "execution_count": null,
      "outputs": [
        {
          "output_type": "execute_result",
          "data": {
            "text/plain": [
              "<Response [200]>"
            ]
          },
          "metadata": {
            "tags": []
          },
          "execution_count": 60
        }
      ]
    },
    {
      "cell_type": "code",
      "metadata": {
        "id": "ZTA0GJ-0vac6"
      },
      "source": [
        ""
      ],
      "execution_count": null,
      "outputs": []
    }
  ]
}